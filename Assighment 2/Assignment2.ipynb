{
  "nbformat": 4,
  "nbformat_minor": 0,
  "metadata": {
    "colab": {
      "provenance": []
    },
    "kernelspec": {
      "name": "python3",
      "display_name": "Python 3"
    },
    "language_info": {
      "name": "python"
    }
  },
  "cells": [
    {
      "cell_type": "code",
      "execution_count": 4,
      "metadata": {
        "colab": {
          "base_uri": "https://localhost:8080/"
        },
        "id": "OBR-OcMkQJbN",
        "outputId": "44b0811b-7a35-470d-f3dd-fed5f5c0c88b"
      },
      "outputs": [
        {
          "output_type": "stream",
          "name": "stdout",
          "text": [
            "Enter your first name: Ahmed\n",
            "Enter your last name: Daim\n",
            "First name (upper): AHMED\n",
            "Last name (lower): daim\n",
            "Sum of letters in your first and last name: 9\n"
          ]
        }
      ],
      "source": [
        "#---------------------Task:1----------------------\n",
        "# Name Formatter and Length Calculator\n",
        "\n",
        "\n",
        "# 1. Input your first name and last name\n",
        "first_name = input(\"Enter your first name: \")\n",
        "last_name = input(\"Enter your last name: \")\n",
        "\n",
        "# 2. Convert first name to uppercase and last name to lowercase\n",
        "first_name = first_name.upper()\n",
        "last_name = last_name.lower()\n",
        "\n",
        "# 3. Calculate and print the sum of the letters\n",
        "total_letters = len(first_name) + len(last_name)\n",
        "\n",
        "# 4. Print the first name in uppercase, last name in lowercase, and the total letters\n",
        "print(f\"First name (upper): {first_name}\")\n",
        "print(f\"Last name (lower): {last_name}\")\n",
        "print(\"Sum of letters in your first and last name:\", total_letters)"
      ]
    },
    {
      "cell_type": "code",
      "source": [
        "#---------------------Task:2----------------------\n",
        "# Area Calculator for shapes\n",
        "\n",
        "print(\"Calculate Area of Following Shapes\")\n",
        "print(\"1. Circle\")\n",
        "print(\"2. Rectangle\")\n",
        "print(\"3. Triangle\")\n",
        "print(\"4. Square\")\n",
        "\n",
        "print(\"Find Area of Circle\")\n",
        "radius = float(input(\"Enter Radius: \"))\n",
        "area = 3.14*radius*radius\n",
        "print(\"Area of Circle is: \",area)\n",
        "\n",
        "print(\"Find Area of Rectangle\")\n",
        "length = float(input(\"Enter Length: \"))\n",
        "width = float(input(\"Enter Width: \"))\n",
        "area = length*width\n",
        "print(\"Area of Triangle is: \",area)\n",
        "\n",
        "print(\"Find Area of Triangle\")\n",
        "base = float(input(\"Enter Base: \"))\n",
        "height = float(input(\"Enter Height: \"))\n",
        "area = 0.5*base*height\n",
        "print(\"Area of Triangle is: \",area)\n",
        "\n",
        "print(\"Find Area of Square\")\n",
        "side = float(input(\"Enter Side: \"))\n",
        "area = side*side\n",
        "print(\"Area of Square is: \",area)\n"
      ],
      "metadata": {
        "colab": {
          "base_uri": "https://localhost:8080/"
        },
        "id": "KZyklR1XQP9B",
        "outputId": "f7131dc7-5945-467d-ba17-9df0147d1d70"
      },
      "execution_count": 7,
      "outputs": [
        {
          "output_type": "stream",
          "name": "stdout",
          "text": [
            "Calculate Area of Following Shapes\n",
            "1. Circle\n",
            "2. Rectangle\n",
            "3. Triangle\n",
            "4. Square\n",
            "Find Area of Circle\n",
            "Enter Radius: 2\n",
            "Area of Circle is:  12.56\n",
            "Find Area of Rectangle\n",
            "Enter Length: 1\n",
            "Enter Width: 2\n",
            "Area of Triangle is:  2.0\n",
            "Find Area of Triangle\n",
            "Enter Base: 2\n",
            "Enter Height: 1\n",
            "Area of Triangle is:  1.0\n",
            "Find Area of Square\n",
            "Enter Side: 2\n",
            "Area of Square is:  4.0\n"
          ]
        }
      ]
    },
    {
      "cell_type": "code",
      "source": [
        "#---------------------Task:3----------------------\n",
        "#Random Color-Based Password Generator in Python\n",
        "\n",
        "import random\n",
        "\n",
        "# 1.List of colors\n",
        "colors = [\"red\", \"blue\", \"green\", \"yellow\", \"orange\", \"purple\"]\n",
        "\n",
        "# 2. Generating a random index\n",
        "index = random.randint(0, len(colors) - 1)\n",
        "\n",
        "# 3. Selecting the color\n",
        "selected_color = colors[index]\n",
        "\n",
        "# 4. Reversing the selected color\n",
        "password = selected_color[::-1]\n",
        "\n",
        "# 5. Printing the results\n",
        "print(\"Selected Color:\", selected_color)\n",
        "print(\"Generated Password:\", password)"
      ],
      "metadata": {
        "colab": {
          "base_uri": "https://localhost:8080/"
        },
        "id": "r-MnabB3SBU5",
        "outputId": "2087c952-b1a3-4b6c-86eb-b1248cbdf566"
      },
      "execution_count": 9,
      "outputs": [
        {
          "output_type": "stream",
          "name": "stdout",
          "text": [
            "Selected Color: green\n",
            "Generated Password: neerg\n"
          ]
        }
      ]
    }
  ]
}