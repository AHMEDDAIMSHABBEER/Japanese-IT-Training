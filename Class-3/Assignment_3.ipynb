{
  "nbformat": 4,
  "nbformat_minor": 0,
  "metadata": {
    "colab": {
      "provenance": []
    },
    "kernelspec": {
      "name": "python3",
      "display_name": "Python 3"
    },
    "language_info": {
      "name": "python"
    }
  },
  "cells": [
    {
      "cell_type": "code",
      "execution_count": 8,
      "metadata": {
        "colab": {
          "base_uri": "https://localhost:8080/"
        },
        "id": "bobg_ao-ve9k",
        "outputId": "f35d911e-fb66-48d5-930f-ef95d59a369b"
      },
      "outputs": [
        {
          "output_type": "stream",
          "name": "stdout",
          "text": [
            "Finish homework\n",
            "Buy groceries\n",
            "Finish homework\n"
          ]
        }
      ],
      "source": [
        "#...........................Task:1.................................\n",
        "\n",
        "tasks = []\n",
        "\n",
        "def add_task(task):\n",
        "    tasks.append(task)\n",
        "\n",
        "def remove_task(task):\n",
        "    if task in tasks:\n",
        "        tasks.remove(task)\n",
        "    else:\n",
        "        print(f\"Task '{task}' not found in the list.\")\n",
        "\n",
        "def view_tasks():\n",
        "    for task in tasks:\n",
        "        print(task)\n",
        "\n",
        "add_task(\"Finish homework\")\n",
        "add_task(\"Buy groceries\")\n",
        "view_tasks()\n",
        "remove_task(\"Buy groceries\")\n",
        "view_tasks()\n",
        "\n"
      ]
    },
    {
      "cell_type": "code",
      "source": [
        "#...........................Task:2.................................\n",
        "\n",
        "def find_max_min(lst):\n",
        "    max_val = lst[0]\n",
        "    min_val = lst[0]\n",
        "    for num in lst:\n",
        "        if num > max_val:\n",
        "            max_val = num\n",
        "        if num < min_val:\n",
        "            min_val = num\n",
        "    return max_val, min_val\n",
        "\n",
        "numbers = [3, 9, 2, 8, 1]\n",
        "max_val, min_val = find_max_min(numbers)\n",
        "print(f\"Max: {max_val}, Min: {min_val}\")\n",
        "\n"
      ],
      "metadata": {
        "colab": {
          "base_uri": "https://localhost:8080/"
        },
        "id": "Q_qiluvWvtWT",
        "outputId": "88ef7e31-401a-477a-d133-93a1917e1b51"
      },
      "execution_count": 9,
      "outputs": [
        {
          "output_type": "stream",
          "name": "stdout",
          "text": [
            "Max: 9, Min: 1\n"
          ]
        }
      ]
    },
    {
      "cell_type": "code",
      "source": [
        "phonebook = {}\n",
        "\n",
        "def add_contact(name, number):\n",
        "    phonebook[name] = number\n",
        "\n",
        "def get_number(name):\n",
        "    return phonebook.get(name, \"Contact not found\")\n",
        "\n",
        "add_contact(\"Alice\", \"1234567890\")\n",
        "add_contact(\"Bob\", \"9876543210\")\n",
        "print(get_number(\"Alice\"))\n",
        "\n",
        "\n"
      ],
      "metadata": {
        "colab": {
          "base_uri": "https://localhost:8080/"
        },
        "id": "KCI0pDfmxn6_",
        "outputId": "6a8985fc-bf09-4fe7-f21a-415d938a2878"
      },
      "execution_count": 4,
      "outputs": [
        {
          "output_type": "stream",
          "name": "stdout",
          "text": [
            "1234567890\n"
          ]
        }
      ]
    },
    {
      "cell_type": "code",
      "source": [
        "#...........................Task:3.................................\n",
        "\n",
        "inventory = {}\n",
        "\n",
        "def add_item(item, quantity):\n",
        "    if item in inventory:\n",
        "        inventory[item] += quantity\n",
        "    else:\n",
        "        inventory[item] = quantity\n",
        "\n",
        "def remove_item(item, quantity):\n",
        "    if item in inventory and inventory[item] >= quantity:\n",
        "        inventory[item] -= quantity\n",
        "        if inventory[item] == 0:\n",
        "            del inventory[item]\n",
        "    else:\n",
        "        print(f\"Insufficient quantity of {item}.\")\n",
        "\n",
        "def view_inventory():\n",
        "    for item, quantity in inventory.items():\n",
        "        print(f\"{item}: {quantity}\")\n",
        "\n",
        "add_item(\"Apple\", 10)\n",
        "add_item(\"Banana\", 5)\n",
        "remove_item(\"Apple\", 3)\n",
        "view_inventory()\n",
        "\n"
      ],
      "metadata": {
        "colab": {
          "base_uri": "https://localhost:8080/"
        },
        "id": "itcXHlbkxqyj",
        "outputId": "ade0b1d1-7b50-4d4f-84f4-e181061a9e25"
      },
      "execution_count": 5,
      "outputs": [
        {
          "output_type": "stream",
          "name": "stdout",
          "text": [
            "Apple: 7\n",
            "Banana: 5\n"
          ]
        }
      ]
    },
    {
      "cell_type": "code",
      "source": [
        "#...........................Task:4.................................\n",
        "\n",
        "\n",
        "def deposit(balance, amount):\n",
        "    balance += amount\n",
        "    print(f\"Deposited: {amount}. New balance: {balance}\")\n",
        "    return balance\n",
        "\n",
        "def withdraw(balance, amount):  # Fixed missing colon\n",
        "    if amount <= balance:\n",
        "        balance -= amount\n",
        "        print(f\"Withdrew: {amount}. New balance: {balance}\")\n",
        "    else:\n",
        "        print(\"Insufficient funds\")\n",
        "    return balance\n",
        "\n",
        "def check_balance(balance):\n",
        "    print(f\"Current balance: {balance}\")\n",
        "\n",
        "balance = 1000\n",
        "balance = deposit(balance, 500)\n",
        "balance = withdraw(balance, 200)\n",
        "check_balance(balance)\n",
        "\n"
      ],
      "metadata": {
        "colab": {
          "base_uri": "https://localhost:8080/"
        },
        "id": "UckLI5htxtJC",
        "outputId": "aa7bfa9a-111f-4199-8141-4f023ea4e3a2"
      },
      "execution_count": 6,
      "outputs": [
        {
          "output_type": "stream",
          "name": "stdout",
          "text": [
            "Deposited: 500. New balance: 1500\n",
            "Withdrew: 200. New balance: 1300\n",
            "Current balance: 1300\n"
          ]
        }
      ]
    },
    {
      "cell_type": "code",
      "source": [],
      "metadata": {
        "id": "LH4_PRX7xwLB"
      },
      "execution_count": null,
      "outputs": []
    }
  ]
}